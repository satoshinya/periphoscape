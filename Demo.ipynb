{
 "cells": [
  {
   "cell_type": "markdown",
   "id": "98218371",
   "metadata": {},
   "source": [
    "**Dataset**"
   ]
  },
  {
   "cell_type": "code",
   "execution_count": 1,
   "id": "cb221b92",
   "metadata": {},
   "outputs": [],
   "source": [
    "from periphoscape.dataset import Dataset\n",
    "\n",
    "minimal_dataset_files = {\n",
    "    'data_dir'  : 'data',\n",
    "    'files' : {\n",
    "        'page'           : 'jawiki-20240220-page-min.csv',\n",
    "        'category'       : 'jawiki-20240220-category-min.csv',\n",
    "        'pagelinks'      : 'jawiki-20240220-pagelinks-min.pickle',\n",
    "        'categorylinks'  : 'jawiki-20240220-categorylinks-min.pickle',\n",
    "        'search_results' : 'search_result_bundle-scissors.json.gz',\n",
    "        'embedding'      : None\n",
    "    },\n",
    "    'number_of_pages'    : 2279654\n",
    "}\n",
    "\n",
    "dataset = Dataset(minimal_dataset_files)"
   ]
  },
  {
   "cell_type": "markdown",
   "id": "3f3b0de6",
   "metadata": {},
   "source": [
    "**Page Database**"
   ]
  },
  {
   "cell_type": "code",
   "execution_count": 2,
   "id": "e2f6b81e",
   "metadata": {
    "scrolled": true
   },
   "outputs": [
    {
     "name": "stdout",
     "output_type": "stream",
     "text": [
      "Reading data...\n",
      " page\n",
      " categorylinks\n",
      " pagelinks\n"
     ]
    }
   ],
   "source": [
    "from periphoscape.page_database import *\n",
    "\n",
    "page_db = create_page_db(dataset)"
   ]
  },
  {
   "cell_type": "markdown",
   "id": "4b11b95b",
   "metadata": {},
   "source": [
    "**Wikipedia Search (emulation)**"
   ]
  },
  {
   "cell_type": "code",
   "execution_count": 3,
   "id": "7f754ea0",
   "metadata": {},
   "outputs": [
    {
     "name": "stdout",
     "output_type": "stream",
     "text": [
      "Loading...done.\n"
     ]
    }
   ],
   "source": [
    "from periphoscape.search_emulation import ElasticSearchEmulation\n",
    "\n",
    "search_engine = ElasticSearchEmulation(page_db, dataset)"
   ]
  },
  {
   "cell_type": "code",
   "execution_count": 4,
   "id": "45672b67",
   "metadata": {},
   "outputs": [],
   "source": [
    "from periphoscape.wikipedia_search import *\n",
    "\n",
    "search_agent = WikipediaSearch(search_engine)"
   ]
  },
  {
   "cell_type": "markdown",
   "id": "386c2041",
   "metadata": {},
   "source": [
    "**Section-base similarity**"
   ]
  },
  {
   "cell_type": "code",
   "execution_count": 5,
   "id": "fa173528",
   "metadata": {},
   "outputs": [],
   "source": [
    "from periphoscape.section_embedding_database import *\n",
    "\n",
    "section_embedding = SectionEmbeddingDB(page_db, search_agent)\n",
    "section_embedding.disable_page_vector_cache()"
   ]
  },
  {
   "cell_type": "markdown",
   "id": "8398e5f3",
   "metadata": {},
   "source": [
    "**Periphoscape**"
   ]
  },
  {
   "cell_type": "code",
   "execution_count": 6,
   "id": "3ea58d19",
   "metadata": {},
   "outputs": [],
   "source": [
    "from periphoscape.periphoscape import *\n",
    "\n",
    "topic = 'はさみ' # the Japanese word for scissors\n",
    "periph = Periphoscape(topic, page_db, None, section_embedding)"
   ]
  },
  {
   "cell_type": "code",
   "execution_count": 7,
   "id": "2a451351",
   "metadata": {},
   "outputs": [],
   "source": [
    "periph.find_aspects()"
   ]
  },
  {
   "cell_type": "code",
   "execution_count": 8,
   "id": "072e3325",
   "metadata": {},
   "outputs": [
    {
     "data": {
      "text/html": [
       "<div>\n",
       "<style scoped>\n",
       "    .dataframe tbody tr th:only-of-type {\n",
       "        vertical-align: middle;\n",
       "    }\n",
       "\n",
       "    .dataframe tbody tr th {\n",
       "        vertical-align: top;\n",
       "    }\n",
       "\n",
       "    .dataframe thead th {\n",
       "        text-align: right;\n",
       "    }\n",
       "</style>\n",
       "<table border=\"1\" class=\"dataframe\">\n",
       "  <thead>\n",
       "    <tr style=\"text-align: right;\">\n",
       "      <th></th>\n",
       "      <th>id</th>\n",
       "      <th>name</th>\n",
       "      <th>incoming</th>\n",
       "      <th>outgoing</th>\n",
       "      <th>section</th>\n",
       "      <th>page_all</th>\n",
       "      <th>page_sat</th>\n",
       "      <th>selected</th>\n",
       "    </tr>\n",
       "  </thead>\n",
       "  <tbody>\n",
       "    <tr>\n",
       "      <th>550</th>\n",
       "      <td>3826769</td>\n",
       "      <td>利き手</td>\n",
       "      <td>2</td>\n",
       "      <td>1</td>\n",
       "      <td>1</td>\n",
       "      <td>2</td>\n",
       "      <td>1</td>\n",
       "      <td>1</td>\n",
       "    </tr>\n",
       "    <tr>\n",
       "      <th>854</th>\n",
       "      <td>558753</td>\n",
       "      <td>医療機器</td>\n",
       "      <td>9</td>\n",
       "      <td>1</td>\n",
       "      <td>0</td>\n",
       "      <td>10</td>\n",
       "      <td>1</td>\n",
       "      <td>1</td>\n",
       "    </tr>\n",
       "    <tr>\n",
       "      <th>1016</th>\n",
       "      <td>231394</td>\n",
       "      <td>調理器具</td>\n",
       "      <td>36</td>\n",
       "      <td>0</td>\n",
       "      <td>1</td>\n",
       "      <td>36</td>\n",
       "      <td>3</td>\n",
       "      <td>1</td>\n",
       "    </tr>\n",
       "    <tr>\n",
       "      <th>1073</th>\n",
       "      <td>2340944</td>\n",
       "      <td>理美容</td>\n",
       "      <td>8</td>\n",
       "      <td>1</td>\n",
       "      <td>1</td>\n",
       "      <td>9</td>\n",
       "      <td>1</td>\n",
       "      <td>1</td>\n",
       "    </tr>\n",
       "    <tr>\n",
       "      <th>1187</th>\n",
       "      <td>125268</td>\n",
       "      <td>化粧品</td>\n",
       "      <td>115</td>\n",
       "      <td>2</td>\n",
       "      <td>1</td>\n",
       "      <td>115</td>\n",
       "      <td>2</td>\n",
       "      <td>1</td>\n",
       "    </tr>\n",
       "    <tr>\n",
       "      <th>1195</th>\n",
       "      <td>366943</td>\n",
       "      <td>機械要素</td>\n",
       "      <td>2</td>\n",
       "      <td>2</td>\n",
       "      <td>0</td>\n",
       "      <td>2</td>\n",
       "      <td>1</td>\n",
       "      <td>1</td>\n",
       "    </tr>\n",
       "    <tr>\n",
       "      <th>1618</th>\n",
       "      <td>167159</td>\n",
       "      <td>工具</td>\n",
       "      <td>4</td>\n",
       "      <td>2</td>\n",
       "      <td>0</td>\n",
       "      <td>5</td>\n",
       "      <td>1</td>\n",
       "      <td>1</td>\n",
       "    </tr>\n",
       "  </tbody>\n",
       "</table>\n",
       "</div>"
      ],
      "text/plain": [
       "           id  name  incoming  outgoing  section  page_all  page_sat  selected\n",
       "550   3826769   利き手         2         1        1         2         1         1\n",
       "854    558753  医療機器         9         1        0        10         1         1\n",
       "1016   231394  調理器具        36         0        1        36         3         1\n",
       "1073  2340944   理美容         8         1        1         9         1         1\n",
       "1187   125268   化粧品       115         2        1       115         2         1\n",
       "1195   366943  機械要素         2         2        0         2         1         1\n",
       "1618   167159    工具         4         2        0         5         1         1"
      ]
     },
     "execution_count": 8,
     "metadata": {},
     "output_type": "execute_result"
    }
   ],
   "source": [
    "periph.get_aspect_dataframe()"
   ]
  },
  {
   "cell_type": "code",
   "execution_count": 9,
   "id": "a86f66b7",
   "metadata": {},
   "outputs": [
    {
     "data": {
      "text/html": [
       "<div>\n",
       "<dt><a href=\"https://ja.wikipedia.org/wiki/Category:%E5%8C%BB%E7%99%82%E6%A9%9F%E5%99%A8\" class=\"categoryAnchor\" target=\"_aspect_info\">医療機器</a></dt>\n",
       "<dd><span style=\"margin-right:10px;\"></span><a href=\"https://ja.wikipedia.org/wiki/%E3%83%A1%E3%82%B9%20%28%E5%88%83%E7%89%A9%29#%E6%A7%8B%E9%80%A0\" class=\"sectionAnchor\" target=\"_aspect_info\">メス (刃物) / 構造</a><span style=\"margin-right:10px;\"></span><a href=\"https://ja.wikipedia.org/wiki/%E3%81%AF%E3%81%95%E3%81%BF#%E6%A7%8B%E9%80%A0\" class=\"sectionAnchor\" target=\"_aspect_info\">はさみ / 構造</a></dd>\n",
       "<dt><a href=\"https://ja.wikipedia.org/wiki/Category:%E7%90%86%E7%BE%8E%E5%AE%B9\" class=\"categoryAnchor\" target=\"_aspect_info\">理美容</a></dt>\n",
       "<dd><span style=\"margin-right:10px;\"></span><a href=\"https://ja.wikipedia.org/wiki/%E5%89%83%E5%88%80#%E5%AE%89%E5%85%A8%E5%89%83%E5%88%80\" class=\"sectionAnchor\" target=\"_aspect_info\">剃刀 / 安全剃刀</a><span style=\"margin-right:10px;\"></span><a href=\"https://ja.wikipedia.org/wiki/%E3%81%AF%E3%81%95%E3%81%BF#%E6%A6%82%E8%AA%AC\" class=\"sectionAnchor\" target=\"_aspect_info\">はさみ / 概説</a></dd>\n",
       "<dt><a href=\"https://ja.wikipedia.org/wiki/Category:%E5%8C%96%E7%B2%A7%E5%93%81\" class=\"categoryAnchor\" target=\"_aspect_info\">化粧品</a></dt>\n",
       "<dd><span style=\"margin-right:10px;\"></span><a href=\"https://ja.wikipedia.org/wiki/%E5%89%83%E5%88%80#%E5%AE%89%E5%85%A8%E5%89%83%E5%88%80\" class=\"sectionAnchor\" target=\"_aspect_info\">剃刀 / 安全剃刀</a><span style=\"margin-right:10px;\"></span><a href=\"https://ja.wikipedia.org/wiki/%E7%88%AA%E5%88%87%E3%82%8A#%E4%BA%BA%E9%96%93%E3%81%AE%E7%88%AA%E5%88%87%E3%82%8A\" class=\"sectionAnchor\" target=\"_aspect_info\">爪切り / 人間の爪切り</a><span style=\"margin-right:10px;\"></span><a href=\"https://ja.wikipedia.org/wiki/%E3%81%AF%E3%81%95%E3%81%BF#%E6%A6%82%E8%AA%AC\" class=\"sectionAnchor\" target=\"_aspect_info\">はさみ / 概説</a></dd>\n",
       "<dt><a href=\"https://ja.wikipedia.org/wiki/Category:%E5%88%A9%E3%81%8D%E6%89%8B\" class=\"categoryAnchor\" target=\"_aspect_info\">利き手</a></dt>\n",
       "<dd><span style=\"margin-right:10px;\"></span><a href=\"https://ja.wikipedia.org/wiki/%E3%81%AF%E3%81%95%E3%81%BF#%E5%8F%B3%E5%88%A9%E3%81%8D%E7%94%A8%E3%81%A8%E5%B7%A6%E5%88%A9%E3%81%8D%E7%94%A8\" class=\"sectionAnchor\" target=\"_aspect_info\">はさみ / 右利き用と左利き用</a><span style=\"margin-right:10px;\"></span><a href=\"https://ja.wikipedia.org/wiki/%E4%B8%A1%E5%88%A9%E3%81%8D#%E9%81%93%E5%85%B7\" class=\"sectionAnchor\" target=\"_aspect_info\">両利き / 道具</a></dd>\n",
       "<dt><a href=\"https://ja.wikipedia.org/wiki/Category:%E8%AA%BF%E7%90%86%E5%99%A8%E5%85%B7\" class=\"categoryAnchor\" target=\"_aspect_info\">調理器具</a></dt>\n",
       "<dd><span style=\"margin-right:10px;\"></span><a href=\"https://ja.wikipedia.org/wiki/%E5%8C%85%E4%B8%81#%E5%90%84%E9%83%A8%E3%81%AE%E5%90%8D%E7%A7%B0\" class=\"sectionAnchor\" target=\"_aspect_info\">包丁 / 各部の名称</a><span style=\"margin-right:10px;\"></span><a href=\"https://ja.wikipedia.org/wiki/%E3%81%AF%E3%81%95%E3%81%BF#%E6%A6%82%E8%AA%AC\" class=\"sectionAnchor\" target=\"_aspect_info\">はさみ / 概説</a><span style=\"margin-right:10px;\"></span><a href=\"https://ja.wikipedia.org/wiki/%E3%83%94%E3%83%BC%E3%83%A9%E3%83%BC#%E4%B8%80%E8%88%AC%E7%9A%84%E5%BD%A2%E6%85%8B\" class=\"sectionAnchor\" target=\"_aspect_info\">ピーラー / 一般的形態</a><span style=\"margin-right:10px;\"></span><a href=\"https://ja.wikipedia.org/wiki/%E5%88%83%E7%89%A9#\" class=\"sectionAnchor\" target=\"_aspect_info\">刃物</a></dd>\n",
       "<dt><a href=\"https://ja.wikipedia.org/wiki/Category:%E6%A9%9F%E6%A2%B0%E8%A6%81%E7%B4%A0\" class=\"categoryAnchor\" target=\"_aspect_info\">機械要素</a></dt>\n",
       "<dd><span style=\"margin-right:10px;\"></span><a href=\"https://ja.wikipedia.org/wiki/%E3%81%AF%E3%81%95%E3%81%BF#%E6%A6%82%E8%AA%AC\" class=\"sectionAnchor\" target=\"_aspect_info\">はさみ / 概説</a><span style=\"margin-right:10px;\"></span><a href=\"https://ja.wikipedia.org/wiki/%E5%88%83#%E6%A6%82%E8%A6%81\" class=\"sectionAnchor\" target=\"_aspect_info\">刃 / 概要</a></dd>\n",
       "<dt><a href=\"https://ja.wikipedia.org/wiki/Category:%E5%B7%A5%E5%85%B7\" class=\"categoryAnchor\" target=\"_aspect_info\">工具</a></dt>\n",
       "<dd><span style=\"margin-right:10px;\"></span><a href=\"https://ja.wikipedia.org/wiki/%E9%87%91%E5%88%87%E3%82%8A%E9%8B%8F#%E7%A8%AE%E9%A1%9E\" class=\"sectionAnchor\" target=\"_aspect_info\">金切り鋏 / 種類</a><span style=\"margin-right:10px;\"></span><a href=\"https://ja.wikipedia.org/wiki/%E3%81%AF%E3%81%95%E3%81%BF#%E6%A6%82%E8%AA%AC\" class=\"sectionAnchor\" target=\"_aspect_info\">はさみ / 概説</a></dd>\n",
       "</dl>\n",
       "</div>\n"
      ],
      "text/plain": [
       "<IPython.core.display.HTML object>"
      ]
     },
     "metadata": {},
     "output_type": "display_data"
    }
   ],
   "source": [
    "periph.display_aspects_in_notebook()"
   ]
  },
  {
   "cell_type": "code",
   "execution_count": null,
   "id": "18de086e",
   "metadata": {},
   "outputs": [],
   "source": []
  }
 ],
 "metadata": {
  "kernelspec": {
   "display_name": "Python 3 (ipykernel)",
   "language": "python",
   "name": "python3"
  },
  "language_info": {
   "codemirror_mode": {
    "name": "ipython",
    "version": 3
   },
   "file_extension": ".py",
   "mimetype": "text/x-python",
   "name": "python",
   "nbconvert_exporter": "python",
   "pygments_lexer": "ipython3",
   "version": "3.8.13"
  }
 },
 "nbformat": 4,
 "nbformat_minor": 5
}
